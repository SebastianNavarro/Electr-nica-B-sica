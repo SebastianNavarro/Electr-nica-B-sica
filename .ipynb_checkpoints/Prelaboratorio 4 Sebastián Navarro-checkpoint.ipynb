{
 "cells": [
  {
   "cell_type": "markdown",
   "id": "c8ad5888",
   "metadata": {},
   "source": [
    "# Universidad San Francisco de Quito\n",
    "# Electrónica Básica Lab (NRC: 2503)\n",
    "# Prelaboratorio 4\n",
    "## Nombre: Sebastián Navarro\n",
    "## Fecha: 29/03/2023"
   ]
  },
  {
   "cell_type": "markdown",
   "id": "acd4aa34",
   "metadata": {},
   "source": [
    "## Ejercicio 1"
   ]
  },
  {
   "cell_type": "markdown",
   "id": "05e73c07",
   "metadata": {},
   "source": [
    "Escribir un código para Arduino capaz de encender y apagar un diodo\n",
    "LED conectado a un puerto digital del microcontrolador, el proceso de\n",
    "intermitencia debe ejecutarse en intervalos de 4 segundos para encendido\n",
    "y 1 segundo para apagado (No utilizar la función delay de la libreria del\n",
    "Arduino, en su lugar utilizar su reloj interno)."
   ]
  },
  {
   "cell_type": "code",
   "execution_count": null,
   "id": "c37ae72d",
   "metadata": {},
   "outputs": [],
   "source": [
    "int ledPin = 13; // Número de pin del LED\n",
    "long intermitenceON = 4000; // Intervalo de tiempo para LED encendido\n",
    "long intermitenceOFF = 1000; // Intervalo de tiempo para LED apagado\n",
    "unsigned long lastChange = 0; //Tiempo de la última vez que cambió el estado del LED\n",
    "bool ledState = LOW; // Estado actual del LED en OFF\n",
    "\n",
    "void setup() {\n",
    "  pinMode(ledPin, OUTPUT); // Pin del LED de salida\n",
    "}\n",
    "\n",
    "void loop() {\n",
    "  unsigned long currentMillis = millis(); // Tiempo transcurrido desde que el programa empezó a correr\n",
    "\n",
    "  // Si ha pasado suficiente tiempo desde el último cambio de estado, se cambia el estado del LED\n",
    "  if (currentMillis - lastChange >= intermitenceON) {\n",
    "    ledState = !ledState;\n",
    "    digitalWrite(ledPin, ledState);\n",
    "    lastChange = currentMillis;\n",
    "    intermitenceON = 5000; // Se actualiza el tiempo de intermitencia después del tiempo de encendido y apagado\n",
    "  }\n",
    "  \n",
    "  // Si el LED está apagado y pasó suficiente tiempo desde el último cambio de estado, se cambia el estado del LED de nuevo\n",
    "  if (ledState == LOW && currentMillis - lastChange >= intermitenceOFF) {\n",
    "    ledState = !ledState;\n",
    "    digitalWrite(ledPin, ledState);\n",
    "    lastChange = currentMillis;\n",
    "   \n",
    "    intermitenceON = 4000; // Se actualiza el tiempo de intermitencia al valor original\n",
    "  }\n",
    "}"
   ]
  },
  {
   "cell_type": "markdown",
   "id": "5bca386b",
   "metadata": {},
   "source": [
    "Link de funcionamiento:\n",
    "https://www.tinkercad.com/things/9HOc4L1yp8Q?sharecode=ZBSXt1zC2qgW2L8c5aLsp302nSMyu6E5tcwlzXf3QoQ"
   ]
  },
  {
   "cell_type": "markdown",
   "id": "a18def20",
   "metadata": {},
   "source": [
    "## Ejercicio 2"
   ]
  },
  {
   "cell_type": "markdown",
   "id": "ce630f65",
   "metadata": {},
   "source": [
    "Escribir un código para Arduino capaz de encender y apagar un diodo\n",
    "LED conectado a un puerto digital del microcontrolador, el proceso de\n",
    "encendido y apagado se debe realizar al presionar un botón que esta conectado a otro puerto digital ( se prende y se apaga el diodo LED con el\n",
    "mismo botón, este funciona como pulsador no como switch)."
   ]
  },
  {
   "cell_type": "code",
   "execution_count": null,
   "id": "3d159d5f",
   "metadata": {},
   "outputs": [],
   "source": [
    "int ledPin = 10; // Número de Pin del LED\n",
    "int buttonPin = 2; // Número de Pin del botón\n",
    "bool buttonState = false; // Estado actual del botón\n",
    "bool lastButtonState = false; // Estado anterior del botón \n",
    "bool ledState = false; // Estado actual del LED\n",
    "\n",
    "void setup() {\n",
    "  pinMode(ledPin, OUTPUT); // Pin del LED de salida\n",
    "  pinMode(buttonPin, INPUT_PULLUP); // Pin del botón de entrada\n",
    "}\n",
    "\n",
    "void loop() {\n",
    "  buttonState = digitalRead(buttonPin); // Se lee el estado actual del botón\n",
    "\n",
    "  // Si el estado actual del botón es diferente al anterior y está pulsado\n",
    "  if (buttonState != lastButtonState && buttonState == LOW) {\n",
    "    ledState = !ledState; // Se cambia el estado del LED\n",
    "    digitalWrite(ledPin, ledState); \n",
    "  }\n",
    "  lastButtonState = buttonState; // Se actualiza el último estado del botón\n",
    "}"
   ]
  },
  {
   "cell_type": "markdown",
   "id": "6042930c",
   "metadata": {},
   "source": [
    "Link de funcionamiento:\n",
    "https://www.tinkercad.com/things/0JSOX1Zsvjp?sharecode=lOy3TEOnVA0YirAidgyECGN5UV7PFtahT2nIDRYUnO0"
   ]
  },
  {
   "cell_type": "markdown",
   "id": "5d6b3ff0",
   "metadata": {},
   "source": [
    "## Ejercicio 3"
   ]
  },
  {
   "cell_type": "markdown",
   "id": "5e311d63",
   "metadata": {},
   "source": [
    "Escribir un código para Arduino capaz de leer un puerto analógico y sus\n",
    "datos sean enviados al puerto serial, el puerto anal´ogico debe leerse cada\n",
    "segundo y sus datos deben entregarse formando columnas con el siguiente\n",
    "formato: n´umero de lectura, Lectura análoga (valorMedidoSinConversion\n",
    "0-1023), voltaje (ValorMedidoTrasformadoAvoltios 0-5V). Un ejemplo de\n",
    "la tabla puede encontrar la siguiente figura 4"
   ]
  },
  {
   "cell_type": "code",
   "execution_count": null,
   "id": "3cadbec6",
   "metadata": {},
   "outputs": [],
   "source": [
    "int readValue = 0; // Valor leído del pin analógico\n",
    "int counter = 1; // Número de mediciones realizadas\n",
    "float voltage = 0; // Valor de la tensión medida\n",
    "\n",
    "void setup()\n",
    "{\n",
    "  Serial.begin(9600); // Inicializa la comunicación serial\n",
    "}\n",
    "\n",
    "void loop()\n",
    "{ \n",
    "  readValue = analogRead(A0); // Se lee el valor analógico del pin A0\n",
    "  voltage = readValue * (5.0 / 1023.0); // Conversión del valor leído a voltaje\n",
    "\n",
    "  // Imprime el número de medición, valor leído y voltaje en el monitor serial\n",
    "  Serial.print(counter);\n",
    "  Serial.print(\"\\t\"); \n",
    "  Serial.print(readValue);\n",
    "  Serial.print(\"\\t\"); \n",
    "  Serial.print(voltage);\n",
    "  Serial.println(\";\");\n",
    "\n",
    "  counter = counter + 1; // Incrementa el contador \n",
    "  delay(1000); // Espera un segundo antes de repetir la medición\n",
    "}"
   ]
  },
  {
   "cell_type": "markdown",
   "id": "636a7521",
   "metadata": {},
   "source": [
    "Link de funcionamiento:\n",
    "https://www.tinkercad.com/things/8kje0dJfUyI?sharecode=vSVHXEd8_t4wfZKsUHj1No-ILVTdf3PwQ2ASnXdZymo"
   ]
  },
  {
   "cell_type": "markdown",
   "id": "91b4327c",
   "metadata": {},
   "source": [
    "## Ejercicio 4"
   ]
  },
  {
   "cell_type": "markdown",
   "id": "1a9824f3",
   "metadata": {},
   "source": [
    " Escribir un código para Arduino capaz de entregar una señal digital modulada en ancho (PWM), la modulación debe ser ajustada por un potenciómetro conectado a un puerto análogo del arduino y la salida debe\n",
    "controlar un servomotor."
   ]
  },
  {
   "cell_type": "code",
   "execution_count": null,
   "id": "fbf89e48",
   "metadata": {},
   "outputs": [],
   "source": [
    "int potentiometerPin = A0; // Número del pin del potenciómetro\n",
    "int servoMotorPin = 9; // Número del pin del servomotor\n",
    "int potentiometerValue = 0; // Valor leído del potenciómetro\n",
    "int pwmValue = 0; // Valor PWM enviado al servo motor\n",
    "\n",
    "void setup() {\n",
    "  pinMode(servoMotorPin, OUTPUT); // Se configura el pin del servo motor como salida\n",
    "}\n",
    "\n",
    "void loop() {\n",
    "  potentiometerValue = analogRead(potentiometerPin); // Se lee el valor analógico del potenciómetro\n",
    "  pwmValue = map(potentiometerValue, 0, 1023, 0, 255); // Se convierte el valor leído del potenciómetro a un valor PWM\n",
    "  analogWrite(servoMotorPin, pwmValue); // Envía el valor PWM al servomotor\n",
    "  delay(10); // Espera 10 ms antes de repetir la medición\n",
    "}"
   ]
  },
  {
   "cell_type": "markdown",
   "id": "0a88cb5d",
   "metadata": {},
   "source": [
    "Link de funcionamiento:\n",
    "https://www.tinkercad.com/things/cUaNB4IPk1c?sharecode=b_Nq8wkEHWsbhbzOpNs8pBlUU34LQE_JbpRLtfk__s0"
   ]
  }
 ],
 "metadata": {
  "kernelspec": {
   "display_name": "Python 3 (ipykernel)",
   "language": "python",
   "name": "python3"
  },
  "language_info": {
   "codemirror_mode": {
    "name": "ipython",
    "version": 3
   },
   "file_extension": ".py",
   "mimetype": "text/x-python",
   "name": "python",
   "nbconvert_exporter": "python",
   "pygments_lexer": "ipython3",
   "version": "3.11.0"
  }
 },
 "nbformat": 4,
 "nbformat_minor": 5
}
