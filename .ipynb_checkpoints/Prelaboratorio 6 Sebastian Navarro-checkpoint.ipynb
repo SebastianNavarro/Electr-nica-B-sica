{
 "cells": [
  {
   "cell_type": "markdown",
   "id": "ace8f69e",
   "metadata": {},
   "source": [
    "### 4. Escribir y probar un software para Arduino capaz de resolver el problema del ejercicio 1. "
   ]
  },
  {
   "cell_type": "code",
   "execution_count": null,
   "id": "ba798ab2",
   "metadata": {},
   "outputs": [],
   "source": [
    "// Definición de los pines utilizados por los sensores y LEDs\n",
    "const int SENSOR_1_PIN = 10;\n",
    "const int SENSOR_2_PIN = 11;\n",
    "const int SENSOR_3_PIN = 12;\n",
    "const int LED_1_PIN = 8;\n",
    "const int LED_2_PIN = 9;\n",
    "\n",
    "void setup() {\n",
    "  // Configuración de los pines como entrada (sensores) o salida (LEDs)\n",
    "  pinMode(SENSOR_1_PIN, INPUT);\n",
    "  pinMode(SENSOR_2_PIN, INPUT);\n",
    "  pinMode(SENSOR_3_PIN, INPUT);\n",
    "  pinMode(LED_1_PIN, OUTPUT);\n",
    "  pinMode(LED_2_PIN, OUTPUT);\n",
    "}\n",
    "\n",
    "void loop() {\n",
    "  // Lectura del estado de cada sensor\n",
    "  bool sensor_1 = digitalRead(SENSOR_1_PIN);\n",
    "  bool sensor_2 = digitalRead(SENSOR_2_PIN);\n",
    "  bool sensor_3 = digitalRead(SENSOR_3_PIN);\n",
    "  \n",
    "  // Acción 1: Si sensor_3 está encendido y sensor_1 y sensor_2 están apagados, se enciende LED_1\n",
    "  if(sensor_3 == HIGH && sensor_1 == LOW && sensor_2 == LOW){\n",
    "    digitalWrite(LED_1_PIN, HIGH);\n",
    "  }\n",
    "  else{\n",
    "    digitalWrite(LED_1_PIN, LOW);\n",
    "  }\n",
    "  \n",
    "  // Acción 2: Si sensor_1 está encendido y sensor_2 y sensor_3 están apagados, se enciende LED_2\n",
    "  if(sensor_1 == HIGH && sensor_2 == LOW && sensor_3 == LOW){\n",
    "    digitalWrite(LED_2_PIN, HIGH);\n",
    "  }\n",
    "  else{\n",
    "    digitalWrite(LED_2_PIN, LOW);\n",
    "  }\n",
    "  \n",
    "  // Acción 3: Si al menos dos sensores están encendidos, se encienden ambos LEDs\n",
    "  if((sensor_1 == HIGH && sensor_2 == HIGH) || (sensor_1 == HIGH && sensor_3 == HIGH) || (sensor_2 == HIGH && sensor_3 == HIGH)){\n",
    "    digitalWrite(LED_1_PIN, HIGH);\n",
    "    digitalWrite(LED_2_PIN, HIGH);\n",
    "  }\n",
    "  else{\n",
    "    digitalWrite(LED_1_PIN, LOW);\n",
    "    digitalWrite(LED_2_PIN, LOW);\n",
    "  }\n",
    "}\n"
   ]
  }
 ],
 "metadata": {
  "kernelspec": {
   "display_name": "Python 3 (ipykernel)",
   "language": "python",
   "name": "python3"
  },
  "language_info": {
   "codemirror_mode": {
    "name": "ipython",
    "version": 3
   },
   "file_extension": ".py",
   "mimetype": "text/x-python",
   "name": "python",
   "nbconvert_exporter": "python",
   "pygments_lexer": "ipython3",
   "version": "3.11.0"
  }
 },
 "nbformat": 4,
 "nbformat_minor": 5
}
