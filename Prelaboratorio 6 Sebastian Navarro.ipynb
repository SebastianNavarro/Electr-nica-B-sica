{
 "cells": [
  {
   "cell_type": "markdown",
   "id": "e3a33713",
   "metadata": {},
   "source": [
    "### 4. Escribir y probar un software para Arduino capaz de resolver el problema del ejercicio 1. "
   ]
  },
  {
   "cell_type": "code",
   "execution_count": null,
   "id": "2bd39072",
   "metadata": {},
   "outputs": [],
   "source": [
    "// Definición de los pines utilizados por los sensores y LEDs\n",
    "const int SENSOR_1_PIN = 10;\n",
    "const int SENSOR_2_PIN = 11;\n",
    "const int SENSOR_3_PIN = 12;\n",
    "const int LED_1_PIN = 8;\n",
    "const int LED_2_PIN = 9;\n",
    "\n",
    "void setup() {\n",
    "  // Configuración de los pines como entrada (sensores) o salida (LEDs)\n",
    "  pinMode(SENSOR_1_PIN, INPUT);\n",
    "  pinMode(SENSOR_2_PIN, INPUT);\n",
    "  pinMode(SENSOR_3_PIN, INPUT);\n",
    "  pinMode(LED_1_PIN, OUTPUT);\n",
    "  pinMode(LED_2_PIN, OUTPUT);\n",
    "}\n",
    "\n",
    "void loop() {\n",
    "  // Lectura del estado de cada sensor\n",
    "  bool sensor_1 = digitalRead(SENSOR_1_PIN);\n",
    "  bool sensor_2 = digitalRead(SENSOR_2_PIN);\n",
    "  bool sensor_3 = digitalRead(SENSOR_3_PIN);\n",
    "  \n",
    "  // Acción 1: Si sensor_3 está encendido y sensor_1 y sensor_2 están apagados, se enciende LED_1\n",
    "  if(sensor_3 == HIGH && sensor_1 == LOW && sensor_2 == LOW){\n",
    "    digitalWrite(LED_1_PIN, HIGH);\n",
    "  }\n",
    "  else{\n",
    "    digitalWrite(LED_1_PIN, LOW);\n",
    "  }\n",
    "  \n",
    "  // Acción 2: Si sensor_1 está encendido y sensor_2 y sensor_3 están apagados, se enciende LED_2\n",
    "  if(sensor_1 == HIGH && sensor_2 == LOW && sensor_3 == LOW){\n",
    "    digitalWrite(LED_2_PIN, HIGH);\n",
    "  }\n",
    "  else{\n",
    "    digitalWrite(LED_2_PIN, LOW);\n",
    "  }\n",
    "  \n",
    "  // Acción 3: Si al menos dos sensores están encendidos, se encienden ambos LEDs\n",
    "  if((sensor_1 == HIGH && sensor_2 == HIGH) || (sensor_1 == HIGH && sensor_3 == HIGH) \n",
    "     || (sensor_2 == HIGH && sensor_3 == HIGH)){\n",
    "    digitalWrite(LED_1_PIN, HIGH);\n",
    "    digitalWrite(LED_2_PIN, HIGH);\n",
    "  }\n",
    "  else{\n",
    "    digitalWrite(LED_1_PIN, LOW);\n",
    "    digitalWrite(LED_2_PIN, LOW);\n",
    "  }\n",
    "}"
   ]
  },
  {
   "cell_type": "markdown",
   "id": "7b10cde2",
   "metadata": {},
   "source": [
    "Link de funcionamiento: https://www.tinkercad.com/things/lVIuUgSTMeT?sharecode=KoRjfr3cVOT3DwJ5x7SJ2GOYzVCfzC29Tu5HlFG_zSk"
   ]
  },
  {
   "cell_type": "markdown",
   "id": "e2681272",
   "metadata": {},
   "source": [
    "### 2. Escribir y probar un software para Arduino capaz de resolver el problema del ejercicio 2. "
   ]
  },
  {
   "cell_type": "code",
   "execution_count": null,
   "id": "b623f7df",
   "metadata": {},
   "outputs": [],
   "source": [
    "// Definición de los pines utilizados por los sensores y LEDs\n",
    "const int SENSOR_1_PIN = 10;\n",
    "const int SENSOR_2_PIN = 11;\n",
    "const int SENSOR_3_PIN = 12;\n",
    "const int SENSOR_4_PIN = 13;\n",
    "const int LED_1_PIN = 8;\n",
    "\n",
    "void setup() {\n",
    "  // Configuración de los pines como entrada (sensores) o salida (LEDs)\n",
    "  pinMode(SENSOR_1_PIN, INPUT);\n",
    "  pinMode(SENSOR_2_PIN, INPUT);\n",
    "  pinMode(SENSOR_3_PIN, INPUT);\n",
    "  pinMode(SENSOR_4_PIN, INPUT);\n",
    "  pinMode(LED_1_PIN, OUTPUT);\n",
    "}\n",
    "\n",
    "void loop() {\n",
    "  // Lectura del estado de cada sensor\n",
    "  bool sensor_1 = digitalRead(SENSOR_1_PIN);\n",
    "  bool sensor_2 = digitalRead(SENSOR_2_PIN);\n",
    "  bool sensor_3 = digitalRead(SENSOR_3_PIN);\n",
    "  bool sensor_4 = digitalRead(SENSOR_4_PIN);\n",
    "  \n",
    "  // Acción: Si los sensores 1 y 2 están encendidos y el sensor 3 está apagado, o si el sensor 4 está encendido, \n",
    "  // se enciende el LED 1\n",
    "  if((((sensor_1 && sensor_2) && !(sensor_3)) || sensor_4) == HIGH){\n",
    "    digitalWrite(LED_1_PIN, HIGH);\n",
    "  }\n",
    "  else{\n",
    "    digitalWrite(LED_1_PIN, LOW);\n",
    "  }\n",
    "}"
   ]
  },
  {
   "cell_type": "markdown",
   "id": "9ff897c9",
   "metadata": {},
   "source": [
    "Link de funcionamiento: https://www.tinkercad.com/things/36ORWem40zE?sharecode=AMgZPZRFTav8qePZE2EJXiCjEKswpFVtRx8pEC1wFqk"
   ]
  }
 ],
 "metadata": {
  "kernelspec": {
   "display_name": "Python 3 (ipykernel)",
   "language": "python",
   "name": "python3"
  },
  "language_info": {
   "codemirror_mode": {
    "name": "ipython",
    "version": 3
   },
   "file_extension": ".py",
   "mimetype": "text/x-python",
   "name": "python",
   "nbconvert_exporter": "python",
   "pygments_lexer": "ipython3",
   "version": "3.11.0"
  }
 },
 "nbformat": 4,
 "nbformat_minor": 5
}
