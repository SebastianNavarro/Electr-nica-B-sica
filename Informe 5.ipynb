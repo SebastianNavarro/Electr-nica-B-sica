{
 "cells": [
  {
   "cell_type": "markdown",
   "id": "ef633d64",
   "metadata": {},
   "source": [
    "Escribir y probar un código para Arduino capaz de presentar en un display LCD los nombres de los integrantes del grupo y el tema seleccionado para el proyecto final de manera secuencial"
   ]
  },
  {
   "cell_type": "markdown",
   "id": "a4518b95",
   "metadata": {},
   "source": [
    "# Código"
   ]
  },
  {
   "cell_type": "code",
   "execution_count": null,
   "id": "79979154",
   "metadata": {},
   "outputs": [],
   "source": [
    "#include <LiquidCrystal.h> // Libreria para controlar el display LCD.\n",
    "\n",
    "const int rs = 12, en = 11, d4 = 5, d5 = 4, d6 = 3, d7 = 2; // Se define los pines del display que conectan al arduino\n",
    "\n",
    "LiquidCrystal LCD(rs, en, d4, d5, d6, d7); // Se crea un objeto de la clase LiquidCrystal con los valores establecidos\n",
    "\n",
    "void setup() {\n",
    "  LCD.begin(16, 2); // Inicializamos el display LCD con 16 columnas y 2 filas\n",
    "}\n",
    "\n",
    "void loop() {\n",
    "  LCD.setCursor(0, 0); // Se posiciona el cursor en la fila 1 y columna 1\n",
    "  LCD.print(\"Joanne Wells\"); //Imprimimos texto en el display\n",
    "  delay(2000); // Esperamos 2 segundos\n",
    "  LCD.clear(); // Reseteamos la pantalla del display\n",
    "  \n",
    "  LCD.setCursor(0, 0); // Se posiciona el cursor en la fila 1 y columna 1\n",
    "  LCD.print(\"SebastianNavarro\"); // Imprimimos texto en el display\n",
    "  delay(3000); // Esperamos 3 segundos\n",
    "  LCD.clear(); // Reseteamos la pantalla del display\n",
    "\n",
    "  LCD.setCursor(0, 0); // Se posiciona el cursor en la fila 1 y columna 1\n",
    "  LCD.print(\"Sistema de riego\"); // Imprimimos texto en el display\n",
    "  delay(1000); // Esperamos 1 segundo\n",
    "  LCD.clear(); // Reseteamos la pantalla del display\n",
    "\n",
    "  LCD.setCursor(0, 0); // Se posiciona el cursor en la fila 1 y columna 1\n",
    "  LCD.print(\"automatico\"); // Imprimimos texto en el display\n",
    "  delay(2000); // Esperamos 2 segundos\n",
    "}\n"
   ]
  }
 ],
 "metadata": {
  "kernelspec": {
   "display_name": "Python 3 (ipykernel)",
   "language": "python",
   "name": "python3"
  },
  "language_info": {
   "codemirror_mode": {
    "name": "ipython",
    "version": 3
   },
   "file_extension": ".py",
   "mimetype": "text/x-python",
   "name": "python",
   "nbconvert_exporter": "python",
   "pygments_lexer": "ipython3",
   "version": "3.11.0"
  }
 },
 "nbformat": 4,
 "nbformat_minor": 5
}
